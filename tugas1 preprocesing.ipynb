{
 "cells": [
  {
   "cell_type": "code",
   "execution_count": 103,
   "id": "d8b1a768-7d31-4535-97b1-25b68efd491d",
   "metadata": {},
   "outputs": [],
   "source": [
    "import zipfile\n",
    "import json\n",
    "import os\n",
    "import string\n",
    "import nltk\n",
    "from nltk.corpus import stopwords\n",
    "from nltk.tokenize import word_tokenize\n",
    "from Sastrawi.Stemmer.StemmerFactory import StemmerFactory\n",
    "from nltk.tokenize import word_tokenize"
   ]
  },
  {
   "cell_type": "code",
   "execution_count": 6,
   "id": "57950746-4c17-490d-8cf3-292f941dbaf6",
   "metadata": {},
   "outputs": [],
   "source": [
    "zip_file_path = 'C:/Users/sarwa/OneDrive/Documents/Kuliah/sms5/STKI/Dataset-Artikel-master/Dataset-Artikel-master/sample/JSON-2018-05.zip'"
   ]
  },
  {
   "cell_type": "code",
   "execution_count": 8,
   "id": "f9a41185-7d64-40c6-b303-68f37e523aff",
   "metadata": {},
   "outputs": [],
   "source": [
    "extract_to = 'C:/Users/sarwa/OneDrive/Documents/Kuliah/sms5/STKI/Dataset-Artikel-master/Dataset-Artikel-master/sample/extracted'"
   ]
  },
  {
   "cell_type": "code",
   "execution_count": 10,
   "id": "52a74162-90a6-446e-866e-ffcb5b3a1515",
   "metadata": {},
   "outputs": [],
   "source": [
    "with zipfile.ZipFile(zip_file_path, 'r') as zip_ref:\n",
    "    zip_ref.extractall(extract_to)"
   ]
  },
  {
   "cell_type": "code",
   "execution_count": 11,
   "id": "a9d165f2-56b9-4c30-aaf0-7c1afddda849",
   "metadata": {},
   "outputs": [],
   "source": [
    "extracted_folder = r'C:\\Users\\sarwa\\OneDrive\\Documents\\Kuliah\\sms5\\STKI\\Dataset-Artikel-master\\Dataset-Artikel-master\\sample\\extracted\\json\\2018\\05\\01\\00'"
   ]
  },
  {
   "cell_type": "code",
   "execution_count": 83,
   "id": "2388006b-c495-49f6-9f33-a0bd2aec4966",
   "metadata": {},
   "outputs": [],
   "source": [
    "stop_words = set(stopwords.words('indonesian'))\n",
    "factory = StemmerFactory()\n",
    "stemmer = factory.create_stemmer()"
   ]
  },
  {
   "cell_type": "code",
   "execution_count": 14,
   "id": "fe75abef-cf04-405e-a34f-7a5dbb4a56df",
   "metadata": {},
   "outputs": [],
   "source": [
    "base_folder = 'C:/Users/sarwa/OneDrive/Documents/Kuliah/sms5/STKI/Dataset-Artikel-master/Dataset-Artikel-master/sample/extracted'"
   ]
  },
  {
   "cell_type": "code",
   "execution_count": 20,
   "id": "55d6342e-c654-42f9-b862-4a9f4a275bc3",
   "metadata": {},
   "outputs": [],
   "source": [
    "for root, dirs, files in os.walk(base_folder):\n",
    "    for file in files:\n",
    "        if file.endswith('.json'):  # Hanya file .json\n",
    "            json_file_path = os.path.join(root, file)"
   ]
  },
  {
   "cell_type": "code",
   "execution_count": 22,
   "id": "7a0a3be6-57b6-453c-b714-83a34e1574be",
   "metadata": {},
   "outputs": [
    {
     "name": "stdout",
     "output_type": "stream",
     "text": [
      "Proses file: C:/Users/sarwa/OneDrive/Documents/Kuliah/sms5/STKI/Dataset-Artikel-master/Dataset-Artikel-master/sample/extracted\\json\\2018\\05\\18\\23\\1526687940000.republika.562ee4764c.json\n"
     ]
    }
   ],
   "source": [
    "# Membuka dan memproses file JSON\n",
    "with open(json_file_path, 'r', encoding='utf-8') as f:\n",
    "                dataset = json.load(f)\n",
    "                print(f'Proses file: {json_file_path}')"
   ]
  },
  {
   "cell_type": "code",
   "execution_count": 26,
   "id": "82f7ad05-18a5-44ad-b820-7d6212a0d1b2",
   "metadata": {},
   "outputs": [
    {
     "name": "stdout",
     "output_type": "stream",
     "text": [
      "Judul: Karangasem Raih Penghargaan MURI Bidang Pelayanan Kependuduk\n",
      "Tanggal: 2018-05-18 23:59:00\n",
      "Konten: REPUBLIKA.CO.ID, KARANGASEM - Pemerintah Kabupaten (Pemkab) Karangasem meraih penghargaan Museum Rek...\n",
      "---\n",
      "\n"
     ]
    }
   ],
   "source": [
    "print(f\"Judul: {dataset.get('title', 'No title')}\")\n",
    "print(f\"Tanggal: {dataset.get('date', 'No date')}\")\n",
    "print(f\"Konten: {dataset.get('content', 'No content')[:100]}...\")  # Cetak 100 karakter pertama\n",
    "print('---\\n')"
   ]
  },
  {
   "cell_type": "code",
   "execution_count": 89,
   "id": "4cf919f9-27cb-46b8-a55d-09a6cd2b4a3c",
   "metadata": {},
   "outputs": [],
   "source": [
    "content = dataset.get('content', 'No content')"
   ]
  },
  {
   "cell_type": "code",
   "execution_count": 93,
   "id": "66d5dd89-cc1a-4b2b-8ac5-269405c1ba49",
   "metadata": {},
   "outputs": [
    {
     "name": "stdout",
     "output_type": "stream",
     "text": [
      "Setelah Lowercasing: republika.co.id, karangasem - pemerintah kabupaten (pemkab) karangasem meraih penghargaan museum rek\n"
     ]
    }
   ],
   "source": [
    " # 1. Lowercasing\n",
    "content = content.lower()\n",
    "print(\"Setelah Lowercasing:\", content[:100])"
   ]
  },
  {
   "cell_type": "code",
   "execution_count": 95,
   "id": "06c78a44-e815-4cc7-811e-e16c82bff207",
   "metadata": {},
   "outputs": [
    {
     "name": "stdout",
     "output_type": "stream",
     "text": [
      "Setelah Menghapus Tanda Baca: republikacoid karangasem  pemerintah kabupaten pemkab karangasem meraih penghargaan museum rekorduni\n"
     ]
    }
   ],
   "source": [
    "# 2. Menghapus tanda baca\n",
    "content = content.translate(str.maketrans('', '', string.punctuation))\n",
    "print(\"Setelah Menghapus Tanda Baca:\", content[:100])"
   ]
  },
  {
   "cell_type": "code",
   "execution_count": 105,
   "id": "e98f0131-d830-4398-84b5-43f859b15a3d",
   "metadata": {},
   "outputs": [
    {
     "name": "stdout",
     "output_type": "stream",
     "text": [
      "Setelah Tokenization: ['republikacoid', 'karangasem', 'pemerintah', 'kabupaten', 'pemkab', 'karangasem', 'meraih', 'penghargaan', 'museum', 'rekordunia']\n"
     ]
    }
   ],
   "source": [
    "# 3. Tokenization (memecah teks jadi kata-kata)\n",
    "words = word_tokenize(content)\n",
    "print(\"Setelah Tokenization:\", words[:10])"
   ]
  },
  {
   "cell_type": "code",
   "execution_count": 107,
   "id": "fc40fa83-7a06-424e-bd7d-b10523b195e9",
   "metadata": {},
   "outputs": [
    {
     "name": "stdout",
     "output_type": "stream",
     "text": [
      "Setelah Menghapus Stopwords: ['republikacoid', 'karangasem', 'pemerintah', 'kabupaten', 'pemkab', 'karangasem', 'meraih', 'penghargaan', 'museum', 'rekordunia']\n"
     ]
    }
   ],
   "source": [
    "# 4. Menghapus stopwords\n",
    "words = [word for word in words if word not in stop_words]\n",
    "print(\"Setelah Menghapus Stopwords:\", words[:10])"
   ]
  },
  {
   "cell_type": "code",
   "execution_count": 109,
   "id": "1c3d3aa2-4f82-4ef8-a92d-83dde48262f7",
   "metadata": {},
   "outputs": [
    {
     "name": "stdout",
     "output_type": "stream",
     "text": [
      "Setelah Stemming: ['republikacoid', 'karangasem', 'perintah', 'kabupaten', 'pemkab', 'karangasem', 'raih', 'harga', 'museum', 'rekordunia']\n"
     ]
    }
   ],
   "source": [
    "# 5. Stemming menggunakan Sastrawi\n",
    "stemmed_words = [stemmer.stem(word) for word in words]\n",
    "print(\"Setelah Stemming:\", stemmed_words[:10])"
   ]
  },
  {
   "cell_type": "code",
   "execution_count": 111,
   "id": "52e5f4a5-0143-4ce5-93c2-43456617bd61",
   "metadata": {},
   "outputs": [],
   "source": [
    "# Gabungkan kembali hasil stemmed menjadi teks\n",
    "cleaned_content = ' '.join(stemmed_words)"
   ]
  },
  {
   "cell_type": "code",
   "execution_count": 113,
   "id": "37880891-b80b-4e18-881a-84fe4798ce9a",
   "metadata": {},
   "outputs": [
    {
     "name": "stdout",
     "output_type": "stream",
     "text": [
      "Judul: Karangasem Raih Penghargaan MURI Bidang Pelayanan Kependuduk\n",
      "Tanggal: 2018-05-18 23:59:00\n",
      "Konten Setelah Preprocessing: republikacoid karangasem perintah kabupaten pemkab karangasem raih harga museum rekordunia indonesia...\n",
      "---\n",
      "\n"
     ]
    }
   ],
   "source": [
    "# Cetak hasil preprocessing\n",
    "print(f\"Judul: {dataset.get('title', 'No title')}\")\n",
    "print(f\"Tanggal: {dataset.get('date', 'No date')}\")\n",
    "print(f\"Konten Setelah Preprocessing: {cleaned_content[:100]}...\")  # Cetak 100 karakter pertama setelah preprocessing\n",
    "print('---\\n')"
   ]
  },
  {
   "cell_type": "code",
   "execution_count": null,
   "id": "f465c6a9-093c-49e0-8839-537e13ef3363",
   "metadata": {},
   "outputs": [],
   "source": []
  }
 ],
 "metadata": {
  "kernelspec": {
   "display_name": "Python 3 (ipykernel)",
   "language": "python",
   "name": "python3"
  },
  "language_info": {
   "codemirror_mode": {
    "name": "ipython",
    "version": 3
   },
   "file_extension": ".py",
   "mimetype": "text/x-python",
   "name": "python",
   "nbconvert_exporter": "python",
   "pygments_lexer": "ipython3",
   "version": "3.11.7"
  }
 },
 "nbformat": 4,
 "nbformat_minor": 5
}
