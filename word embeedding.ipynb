{
 "cells": [
  {
   "cell_type": "code",
   "execution_count": 21,
   "id": "c32476c5-11b4-4288-a5b6-3a2cd660cfa7",
   "metadata": {},
   "outputs": [
    {
     "name": "stdout",
     "output_type": "stream",
     "text": [
      "                                              review sentiment\n",
      "0  One of the other reviewers has mentioned that ...  positive\n",
      "1  A wonderful little production. <br /><br />The...  positive\n",
      "2  I thought this was a wonderful way to spend ti...  positive\n",
      "3  Basically there's a family where a little boy ...  negative\n",
      "4  Petter Mattei's \"Love in the Time of Money\" is...  positive\n"
     ]
    }
   ],
   "source": [
    "import pandas as pd\n",
    "\n",
    "# Membaca dataset\n",
    "data = pd.read_csv('IMDB Dataset.csv')\n",
    "\n",
    "print(data.head())"
   ]
  },
  {
   "cell_type": "code",
   "execution_count": 23,
   "id": "14f4c4a9-62c4-48c1-83dd-cd48d1da27b3",
   "metadata": {},
   "outputs": [
    {
     "name": "stderr",
     "output_type": "stream",
     "text": [
      "[nltk_data] Downloading package stopwords to\n",
      "[nltk_data]     C:\\Users\\sarwa\\AppData\\Roaming\\nltk_data...\n",
      "[nltk_data]   Package stopwords is already up-to-date!\n",
      "[nltk_data] Downloading package punkt to\n",
      "[nltk_data]     C:\\Users\\sarwa\\AppData\\Roaming\\nltk_data...\n",
      "[nltk_data]   Package punkt is already up-to-date!\n"
     ]
    },
    {
     "name": "stdout",
     "output_type": "stream",
     "text": [
      "\n",
      "Dataset Setelah Pembersihan:\n",
      "                                              review  \\\n",
      "0  One of the other reviewers has mentioned that ...   \n",
      "1  A wonderful little production. <br /><br />The...   \n",
      "2  I thought this was a wonderful way to spend ti...   \n",
      "3  Basically there's a family where a little boy ...   \n",
      "4  Petter Mattei's \"Love in the Time of Money\" is...   \n",
      "\n",
      "                                      cleaned_review  \n",
      "0  one reviewers mentioned watching 1 oz episode ...  \n",
      "1  wonderful little production br br filming tech...  \n",
      "2  thought wonderful way spend time hot summer we...  \n",
      "3  basically theres family little boy jake thinks...  \n",
      "4  petter matteis love time money visually stunni...  \n"
     ]
    }
   ],
   "source": [
    "import string\n",
    "from nltk.tokenize import word_tokenize\n",
    "from nltk.corpus import stopwords\n",
    "import nltk\n",
    "\n",
    "# Download stopwords dan punkt\n",
    "nltk.download('stopwords')\n",
    "nltk.download('punkt')\n",
    "\n",
    "# Fungsi pemrosesan teks lengkap\n",
    "def preprocess_text(text):\n",
    "    # Mengubah teks menjadi huruf kecil\n",
    "    text = text.lower()\n",
    "    \n",
    "    # Menghapus tanda baca\n",
    "    text = text.translate(str.maketrans('', '', string.punctuation))\n",
    "    \n",
    "    # Tokenisasi\n",
    "    tokens = word_tokenize(text)\n",
    "    \n",
    "    # Menghilangkan stopwords\n",
    "    stop_words = set(stopwords.words('english'))\n",
    "    tokens = [word for word in tokens if word not in stop_words]\n",
    "    \n",
    "    # Menggabungkan kembali menjadi string\n",
    "    cleaned_text = ' '.join(tokens)\n",
    "    return cleaned_text\n",
    "\n",
    "# Terapkan pemrosesan ke kolom review\n",
    "data['cleaned_review'] = data['review'].apply(preprocess_text)\n",
    "print(\"\\nDataset Setelah Pembersihan:\")\n",
    "print(data[['review', 'cleaned_review']].head())"
   ]
  },
  {
   "cell_type": "code",
   "execution_count": 41,
   "id": "e84ca941-7c7e-4612-9369-3a06eea06338",
   "metadata": {},
   "outputs": [
    {
     "name": "stdout",
     "output_type": "stream",
     "text": [
      "\n",
      "Matriks TF-IDF:\n",
      "   007  010        10  100  1000  10000  101  1010  10br   11  ...  zellweger  \\\n",
      "0  0.0  0.0  0.000000  0.0   0.0    0.0  0.0   0.0   0.0  0.0  ...        0.0   \n",
      "1  0.0  0.0  0.000000  0.0   0.0    0.0  0.0   0.0   0.0  0.0  ...        0.0   \n",
      "2  0.0  0.0  0.000000  0.0   0.0    0.0  0.0   0.0   0.0  0.0  ...        0.0   \n",
      "3  0.0  0.0  0.073793  0.0   0.0    0.0  0.0   0.0   0.0  0.0  ...        0.0   \n",
      "4  0.0  0.0  0.000000  0.0   0.0    0.0  0.0   0.0   0.0  0.0  ...        0.0   \n",
      "\n",
      "   zero  zhang  zizek  zoey  zombi    zombie  zombies  zone  zoom  \n",
      "0   0.0    0.0    0.0   0.0    0.0  0.000000      0.0   0.0   0.0  \n",
      "1   0.0    0.0    0.0   0.0    0.0  0.000000      0.0   0.0   0.0  \n",
      "2   0.0    0.0    0.0   0.0    0.0  0.000000      0.0   0.0   0.0  \n",
      "3   0.0    0.0    0.0   0.0    0.0  0.112911      0.0   0.0   0.0  \n",
      "4   0.0    0.0    0.0   0.0    0.0  0.000000      0.0   0.0   0.0  \n",
      "\n",
      "[5 rows x 10000 columns]\n"
     ]
    }
   ],
   "source": [
    "# Menghitung TF-IDF dengan pembatasan\n",
    "vectorizer = TfidfVectorizer(max_features=10000, min_df=5, max_df=0.8)\n",
    "X_tfidf = vectorizer.fit_transform(data['cleaned_review'])\n",
    "\n",
    "# Mengkonversi hasil TF-IDF ke DataFrame\n",
    "tfidf_df = pd.DataFrame(X_tfidf.toarray(), columns=vectorizer.get_feature_names_out())\n",
    "\n",
    "# Menampilkan beberapa baris pertama dari matriks TF-IDF\n",
    "print(\"\\nMatriks TF-IDF:\")\n",
    "print(tfidf_df.head())"
   ]
  },
  {
   "cell_type": "code",
   "execution_count": 43,
   "id": "953eb4e3-734d-46a8-a9f1-42cfd6336883",
   "metadata": {},
   "outputs": [
    {
     "name": "stderr",
     "output_type": "stream",
     "text": [
      "E:\\anaconda3\\Lib\\site-packages\\sklearn\\cluster\\_kmeans.py:870: FutureWarning: The default value of `n_init` will change from 10 to 'auto' in 1.4. Set the value of `n_init` explicitly to suppress the warning\n",
      "  warnings.warn(\n"
     ]
    },
    {
     "name": "stdout",
     "output_type": "stream",
     "text": [
      "\n",
      "Hasil Pengelompokan:\n",
      "                                              review  cluster\n",
      "0  One of the other reviewers has mentioned that ...        3\n",
      "1  A wonderful little production. <br /><br />The...        1\n",
      "2  I thought this was a wonderful way to spend ti...        0\n",
      "3  Basically there's a family where a little boy ...        0\n",
      "4  Petter Mattei's \"Love in the Time of Money\" is...        1\n",
      "5  Probably my all-time favorite movie, a story o...        0\n",
      "6  I sure would like to see a resurrection of a u...        0\n",
      "7  This show was an amazing, fresh & innovative i...        3\n",
      "8  Encouraged by the positive comments about this...        2\n",
      "9  If you like original gut wrenching laughter yo...        4\n"
     ]
    }
   ],
   "source": [
    "from sklearn.cluster import KMeans\n",
    "\n",
    "# Menggunakan K-Means untuk pengelompokan\n",
    "num_clusters = 5  # Misalnya, kita ingin 5 cluster\n",
    "kmeans = KMeans(n_clusters=num_clusters, random_state=42)\n",
    "kmeans.fit(X_tfidf)\n",
    "\n",
    "# Mendapatkan label cluster untuk setiap review\n",
    "data['cluster'] = kmeans.labels_\n",
    "\n",
    "print(\"\\nHasil Pengelompokan:\")\n",
    "print(data[['review', 'cluster']].head(10))"
   ]
  },
  {
   "cell_type": "code",
   "execution_count": 45,
   "id": "5a1ac724-78da-48b7-8100-5764095c28f3",
   "metadata": {},
   "outputs": [
    {
     "name": "stdout",
     "output_type": "stream",
     "text": [
      "\n",
      "Cluster 0:\n",
      "['I saw this in a sneak two days before the official opening, and I must say I was extremely disappointed. And I have to put the majority of these problems on the decision to cast Claire Danes in the lead role. Depending on what you think about Danes, she was either horribly miscast, or is so far in over her head that she should be the early favorite for the 2007 Razzie for Worst Actress. I think we were supposed to be sympathetic to her. Instead, she is completely unlikeable. The other \"great\" actresses do an OK job, but certainly don\\'t light up the screen. Out of all the \"great\" actresses in this movie, I\\'d say the one who did the best job was Natasha Richardson. Streep is barely in the picture, and only appears near the very end.<br /><br />Horrible screenplay as well. It comes off more as them reading lines than truly being \"in character.\"', \"At least it's not full of sensless violence or fluff. It's also not very full of thought or a smooth storyline. This story had some potential but the director appears to have lost site of the green. The story is disjointed and goes off in strange<br /><br />directions, to no conclusion. I also don't believe the director spent much time around a golf country club, either. Some of the depictions are absurd. Not very engaging.\", 'What keeps us going - or at least what I feel the writer wanted us to keep us glued at an early point is our desire to know whether Martinaud has done the dirty deed. Without spoiling so much, of course there is a red herring and a twist. But then we discover that this is the story of Martinaud\\'s imperfections and his difficulty in coping. When there is the revelation - we begin to sympathize and pity him because as the story progresses we are made to think he is the sick, perverted pedophiliac that we\\'re predisposed to have in mind. One of those things he has to cope with is the distant gap he and his wife have even though they live on the same roof. These problems of course are given their denouement in the film\\'s shocking finale.<br /><br />This movie demands your patience and it has certainly tried those of restless teenagers sitting at the rear. They were heckling obviously because they aren\\'t partial to \"central location\" films. Although there is a bit of travelling, when we get to the woods and the beach. And we realize that Gallien isn\\'t as clever as we are made to think he is.<br /><br />The Inquisitor is 5/5', 'Garson Kanin wrote and directed this look at \"modern day\" Las Vegas and the gap between generations, his first directorial effort since the 1940s! David Janssen is somewhat miscast as a big-shot casino owner who reunites with his son (Robert Drivas, who looks disconcertingly like an older Jason Bateman). Janssen approaches every scene the same way: defensively, with a chip on his shoulder. Playing this role cool and laid-back is asking too much from Janssen, who barks at everyone like a grouchy put-upon husband (he even chews out Don Rickles and makes him cry!). His son, a ne\\'er-do-well in search of his own identity, makes hip comments about how young people look down on Vegas (give them another ten years), and his disapproval of Dad\\'s lifestyle causes friction. Brenda Vaccaro is cute as a self-conscious secretary and Edy Willaims has a fun bit as a showgirl at an audition. Unfortunately, \"Where It\\'s At\" doesn\\'t have much else going for it other than the now-dated ruminations on ethics between adults and their kids, some quick T&A shots and amusingly jaded satirical bits on the high-stakes world of gambling--most of which has been covered by now, ad nauseum. ** from ****', 'In what must be one of the most blood-freezing movies ever, a transvestite is murdering people in New York, and the answer to everything may not be what people suspect. One can see how Brian DePalma takes some influence from Hitchcock with camera angles and stuff. Michael Caine plays a most thought-provoking character, while Angie Dickinson is basically a bored rich woman with a bad hairdo. Keith Gordon (who later starred in \"Christine\") is probably the most interesting character in the movie. But you can\\'t really understand this movie without seeing it. And after seeing it, you may never know just whom you can trust. Also starring Nancy Allen and Dennis Franz.']\n",
      "\n",
      "Cluster 1:\n",
      "['Based on the true story of two young Americans who sold national secrets to the Soviet Union in the height of the Cold War, \"Falcon And The Snowman\" wants to be both suspenseful and philosophical, and winds up falling short in both departments. It\\'s less le Carré than who cares.<br /><br />Timothy Hutton stars as Christopher Boyce, a former seminarian who, disgusted by Watergate and the middle-class values around him, is probably the wrong guy to be hired by a company running spy satellites for the CIA. Sean Penn plays his drug-dealing pal, Daulton Lee, who makes himself Boyce\\'s courier, delivering secret files to the Soviet embassy in Mexico City. An offbeat synth-jazz score, lack of sympathy or emotional attachment for anyone, and lots of scenes of guys getting angry in rooms all combine to deaden what could have a decent moral-dilemma thriller.<br /><br />It\\'s really Penn\\'s movie despite the second billing; his character gets to talk turkey with the Russians while Hutton plays with his pet falcon. Hutton looks like they woke him up five minutes before they called \"action\". With Penn, it\\'s a crapshoot whether you get a brilliant performance or an over-the-top one. Here, it\\'s a bit of both, but more the latter, especially in the second half when Lee switches from coke to heroin. He screeches. He snorts. He crashes Russian embassy parties. He gets pummeled with telephone books. He spits at himself in a mirror, a big goober he must have been saving for a paparazzi. \"I don\\'t know who my friends are anymore!\" he cries out. It\\'s exhausting to just watch him.<br /><br />Penn seems to have modeled Lee somewhat on Dustin Hoffman\\'s Ratso Rizzo from \"Midnight Cowboy\", complete with overly nasal line readings and constant eye shifting. John Schlesinger directed this film as well as \"Midnight Cowboy\", but he seems to have had another Hoffman film in mind, \"The Graduate\", throwing up scene after scene of Boyce and Lee poolside, trying to decide how to live their lives in their gilded cage. Too bad no one suggested plastics.<br /><br />From the opening shots, news footage of American decline juxtaposed with Boyce and his bird, \"Falcon\" makes clear it is a message movie, though the message itself is far from clear, probably because the characters never come into focus. Is Boyce supposed to be an idealist? Or is he just a mercenary? Hutton and Schlesinger don\\'t seem to know, which makes it harder for us. Meanwhile, opportunities to establish some suspense, like Boyce stealing documents from the top secret \"Black Vault\" where he works or Lee playing games with the Russians, are interrupted by jump cuts to scenes of the pair with their families and friends. It\\'s the normalcy of the story that Schlesinger finds interesting, but it\\'s the least interesting aspect for us.<br /><br />Good stuff: It\\'s interesting to see a film that works the 1970s vibe so early as this one, referencing Maria Muldaur and Tang. Dorian Harewood, memorable in \"Full Metal Jacket\", has a nice turn as Boyce\\'s paranoid colleague Gene, who shows Boyce how to make margaritas with a shredder but has some serious \\'Nam issues beneath his partying exterior. Macon McCalman is also fine in a totally different way as the no-nonsense boss who gives Boyce his high-security job. David Suchet as the Russian embassy official who deals with Lee makes for a fascinating blend of menace and amiability.<br /><br />But \"Falcon And The Snowman\" stands or falls on the the question of the two title characters, and neither the actors nor Schlesinger are able to mine much in the way of answers. Worse, after more than two hours in their alternately feral and catatonic company, you don\\'t really want answers. You just want those credits to roll.', 'So Angela has grown up and gotten therapy and an operation to turn her into a real life daughter, rather than the son that she was born, and now holds a job as - wait for it - a camp counselor! How appropriate, right? I know, I love it. Anyway, the first sequel to the Sleepaway Camp franchise obeys all the rules of horror sequels - more blood, more imaginative killings (which aren\\'t imaginative, but still more so than the original), more nudity, a more elaborate plot, and generally worse than the original. <br /><br />It is entertaining in the same way as the original was, in that the characters and wardrobes are so goofy and so authentically 80\\'s that you can\\'t help getting a good laugh. At one point, a guy asks Angela out, and she says \"I\\'ll call you,\" and then quickly walks away. The guy says to himself, \"How is she gonna call me? I don\\'t have a phone!\" and then he sniffs his armpits, wondering what turned her off (it\\'s the hair, dude!!).<br /><br />It is a well-known fact that in 80s slasher movies, the murdered teenagers were more often than not being punished by their killer for some kind of bad behavior, usually for being too promiscuous. When I first started getting into horror movies and saw the Friday the 13th movies for the first time in the mid 90s, I didn\\'t realize this. I learned it in a film class a year or two later and was amazed that their was some method to the madness. I was pretty impressed, not only that the movies were passing on some kind of message, albeit a morbid one, but that there was actually some thought put into it.<br /><br />But not in this movie! At one point just before Angela kills one of her victims, she says \"Let this be a lesson to you. Say no to drugs!\" Real subtle screen writing there, guys. Then again, the dialogue is the most entertaining thing in the movie. Angela (who, by the way, went through all that therapy and those operations and all that trouble to clean up her past and reinvent herself as a normal and well-developed person and then changed her name from Angela to, umm, Angela), says at one point, \"I don\\'t like being the wicked witch of the west, but I know what happens when things get out of control.\" (People start getting killed...by me! HA!)<br /><br />Then later, she demands that one of the counselors, Mare, make an apology, to which the girl replies, \"I\\'d rather die!\" Sorry, Mare, but you really walked into that one...<br /><br />Two years ago I was a camp counselor at a sleepaway camp similar to the one portrayed in this movie (except the camp that I taught at had more than three kids to the 15 or 20 counselors and it also had rules, which the one in the movie doesn\\'t). This made me notice the myriad of discrepancies in the movie from what camp life is really like. <br /><br />That\\'s okay though, you can hardly make a movie like this with a lot of 9 year olds running around, although there were some 10 or 11 year old kids killed in this movie. I hadn\\'t seen that kind of thing much before. <br /><br />Definitely bad taste, even for a cheesy 80s slasher movie....', 'I watched Grendel the other night and am compelled to put together a Public Service Announcement.<br /><br />Grendel is another version of Beowulf, the thousand-year-old Anglo-Saxon epic poem. The SciFi channel has a growing catalog of inoffensive and uninteresting movies, and the previews promised an inauthentic low-budget mini-epic, but this one refused to let me switch channels. It was staggeringly, overwhelmingly, bad. I watched in fascination and horror at the train wreck you couldn\\'t tear your eyes away from. I reached for a notepad and managed to capture part of what I was seeing. The following may contain spoilers or might just save your sanity. You\\'ve been warned.<br /><br />- Just to get it over with, Beowulf\\'s warriors wore horned helmets. Trivial issue compared to what came after. It also appears that the helmets were in a bin and handed to whichever actor wandered by next. Fit, appearance and function were apparently irrelevant.<br /><br />- Marina Sirtis had obviously been blackmailed into doing the movie by the Ringling Brothers, Barnum and Bailey circus. She managed to avoid a red rubber nose, but the clowns had already done the rest of her makeup.<br /><br />- Ben Cross pretended not to be embarrassed as the king. His character, Hrothgar, must have become king of the Danes only minutes before the film opened and hadn\\'t had a chance to get the crown resized to fit him yet.<br /><br />- To facilitate the actors\\' return to their day jobs waiting tables, none were required to change their hairstyles at all. The variety of hair included cornrows, sideburns, buzz cuts and a mullet and at least served to distract from the dialog. To prove it was a multi-national cast, all were encouraged to retain whatever accent they chose.<br /><br />- As is typical with this type of movie (at least since Mad Max), leather armor was a requirement. In this case it was odd-shaped, ill-fitting and brand-new.<br /><br />- The female love interest, Ingrid, played by Alexis Peters, followed a long-standing tradition of hotties who should be watched with the volume turned completely down.<br /><br />- The unintended focus of the movie was a repeating, compound crossbow with exploding bolts. It never needed to be loaded and even had a recoil when fired. It managed to shred the laws of physics, the integrity of the original legend, historical fact and plot suspense all by itself.<br /><br />- Hrothgar\\'s palace, Heorot, rather than being a Norse long hall, apparently was designed and constructed by artisans who sank with Atlantis.<br /><br />- Beowulf arrived at the Danes\\' homeland in a two-masted stern-castled ship that originally was part of a set, the other two being the Santa Maria and the Pinta.<br /><br />- Prince Unferth observed Beowulf\\'s ship\\'s approach using a telescope. Before you could recover from that astounding innovation, you got to see the ship from his point of view. Judging from the angle, the prince was in an aircraft of some sort.<br /><br />- Fun fact 1: In Bulgaria, fire (as from a fireplace) creates light without heat. This explains why you could see the actors\\' breath whether indoors or out.<br /><br />- Fun fact 2: Dark Age dancing in Denmark looks like slow dances I went to in the 8th grade.<br /><br />- Fun fact 3: You, too, can make a catapult with a timed-release air-burst explosive. But, don\\'t expect it to actually harm anything. Incidentally, Beowulf was apparently a veteran of World War II, yelling \"Incoming!\" to shred any remaining suspension of disbelief.<br /><br />- Grendel was so upset and always in a snit because as a completely CGI creation he couldn\\'t leave footprints. Even in snow.<br /><br />- Grendel\\'s mom (\"Hag\") was in a foul mood because she was a single mother and junior hadn\\'t inherited her wings. Recessive gene, I suppose. By the way, we can now make an educated guess that Grendel\\'s pop was probably Swamp Thing.<br /><br />- Grendel and mom chose to randomly kill, fly away with or drag away their prey based only on a close reading of the next few pages of the script.<br /><br />- Fun medical fact: Being slammed by a mythical beast hard enough to be thrown fifty feet against stone causes slight facial scratches that don\\'t bleed much.<br /><br />- The sword of legend Beowulf used to dispatch the Hag was as long as he was tall and would have contained enough steel to put a second deck on the Golden Gate Bridge. Luckily the wobbling dispelled any concerns over its weight.<br /><br />- Best line of the movie: Prince Unferth had just been impaled by Hag and spit a quart of blood roughly six feet. Princess Ingrid cradled him gently and said, \"You\\'re going to be okay, my prince.\" So much for that job at the triage clinic.<br /><br />I feel better now.', 'I think it\\'s the sort of film you either love or hate and I\\'m really not the type to go in for arty movies. My mother rented \"mullhuland DR\" the other night and I nearly ran from the room, ha. But I love this film.<br /><br />We recorded \"The Beat\" one night when we had just let the tape run and got a great film that way by accident. Saved that tape and watched it a lot. I eventually got the VHS to add to my collection. I\\'ve watched it many times and at one point copied down the poems. I even tried to preform one scene for my high school drama class. She had said we could do any scene we wanted and just cut out the bad words. She refused to let me do it. If it could upset my drama teacher that much it has to be good :) Honest she never treated me the same after that.<br /><br />I liked the acting it came off very true and honest. It wasn\\'t clean and polished but it was better than that. It was true to life, how anyone would truly behave and display emotions not how Hollywood does. It was great acting especially by the one playing Rex.<br /><br />The story was original. Not only do the characters get drawn into his world but you do too. Not your typical person meets inner city kids and saves them through knowledge film at all. Simply caring and friendship make things a bit better.<br /><br />The only thing is that even in the 80\\'s there was more gun violence and less simple stuff like rock throwing but that little bit of innocence didn\\'t hurt this film.<br /><br />I think it\\'s a must see. you will either love or hate it but either way it makes an impact and that makes a good film that you will remember and talk about later.', \"Moon Child is the story of two brothers and a friend trying to make it in a futuristic, economically-unstable Japan. After a cunning disaster gone wrong, someone new enters young Sho's life, a special friend by the name of Kei. Years later they have grown rather close, and have found ways to combine both their talents into one unstoppable team. During another escapade, they encounter a new friend and his mute sister who become part of their band of friends. Before long disaster again strikes and the group falls apart. Alliances turn to enemies and their worlds are all turned upside down. Regrets and hopelessness claim some while power and success take others. Tragedy claims still others. Truths are revealed and lives are forever changed. <br /><br />And you will never see a more beautiful sunrise.<br /><br />This movie is a gripping tale of undying friendships, webs of relationships, and a team that not even death can keep apart for too long. Moon child combines sci-fi, drama, and action with the perfect cast and talent to create the most sensationally moving movie of the time, and great for most audiences. It minimizes the everyday romances and puts more emphasis on the important values we can all relate to such as friendships, loyalty, and believing in yourself. Nothing could possibly compare. I personally have never seen anything quite like it, and I don't suspect I ever will again.<br /><br />It appeals to the wider population in many ways and is a must see for all.\"]\n",
      "\n",
      "Cluster 2:\n",
      "['Though this may not necessarily be a so-called \"classic\" film by today\\'s standards, it\\'s still worth seeing. The main reason why is because after experiencing this film, you get the feeling that you\\'ve also experienced the counter-cultural idealism of the 60\\'s, no matter however good or bad.<br /><br />I happened to see this film in an English literature class at SUNY Geneseo, and though at first it appears to be just a meaningless composition of 60\\'s icons, the film is far from being simply \"thrown together\".<br /><br />My point is that if you leave the film feeling unsatisfied and confused, the film has done it\\'s job: it\\'s conveyed a desolate view of the future that leaves you feeling unsure and angry. It was perhaps this same feeling that the film sought to explore in the youth it exemplified.<br /><br />As such, \"Zabriskie Point\" may not tell a very good (or interesting) story, and at the same time its characters may be one-sided and predictable. However, it also conveys so well this sort of clichéd, rebellious desire to get out of the existence which both Mark and Daria must share. Even the anti-establishment students are as inauthentic as the gov\\'t they rebel against.', \"The movie has the longest, most tortured and agonized ending of any movie I've seen in a long time. Unfortunately it starts right after the opening credits. January Jones gives such a wooden performance, I was surprised she didn't go up in flames when she got near the candles in the film. I don't really remember her from the other films she's done (a blessing I have to believe. I never criticize an actors performance because in film there are too many things which can affect it but in this case,it is so bad that it actually stands out from the ATROCIOUS script. Granted she's given lines and situations Meryl Streep would have trouble with but I swear at times shes reading from a cue card off set. At other times I thought she might actually be learning disabled or slow in some way. For REAL! The plot, dialog and pacing are as bad as you'll ever see but there is still no excuse for this performance nor for the director that let it be perpetrated. I feel sorry for the other actors. Cruel intentions/ 10 little indians/breakfast club shoved into a rotten burrito then regurgitated by a grade school writer- director. Take that back this has Studio exec crayola all over it.\", \"This film has the guts to suggest that it might be best to simply accept your life as it is, and keep smiling anyway. As one who is more excited by the idea of taking charge of one's life and moving forward, I felt slapped in the face, but that's okay: I don't have to agree with a movie to love it and respect it. Great acting by Streep and Hurt, and everyone else really, and some wonderfully quirky scenes. A serious film. And take a hanky.\", \"Always enjoy the Classic Horror films, however, this film was really a big waste of time and if it were not for John Carradine playing the mad man doctor who is able to control human beings through his experiments. This film was made during WW II and John Carradine was a German Nazi working to find a human weapon against the entire world. Bob Steele playing in many roles as a cowboy or gangster and in this picture Bob seemed bored to death with his role in this film and acted like this was his first film. Mantan Moreland, (Jeff) gave an outstanding performance with great comedy which helped keep the audience attention. I hate to criticize a film made in 1943, but this is really a big disappointment. If you like John Carradine and the roles he played as Count Dracula throughout many films during the 1940's, you just might like to watch John doing his best.\", 'I own a copy of this film and have always loved it. I comment here, however, because I saw the PBS presentation of a concert version of Sweeney Todd earlier this week. That production was put on by the San Francisco Opera and starred George Hearn and Patti LuPone. In the early \\'80s Hearn replaced Len Cariou as Sweeney (Cariou had won the Tony for his performance). I saw Hearn and Angela Lansbury (who also won the Tony for her performance as Mrs. Lovett) perform Sweeney on broadway. They must have made the film at about the time I saw the show. To this day, the most moving moment I can ever remember in the theatre occurred when Hearn sang \"These are my Friends.\" (\"These are my friends, see how they glisten.\" \"My arm is complete again!\") <br /><br />Hearn\\'s performance in the San Francisco Opera production convinced me that he has lost nothing in the nearly twenty years since I first saw him perform the piece on Broadway and later in the film. What a talent! He is sympathetic, funny, and scary -- all at once; and he can sing, boy can he sing. All of this reminded me of how terrific the film is. Highly recommended. Ten out of ten.']\n",
      "\n",
      "Cluster 3:\n",
      "['this episode is not incoherent like another person said. the source agreed to help because he was not going to keep his word, if you pay attention... he says after she (phoebe) agrees to stay down there in hell, \"GET RID OF HER AND BALTHAZOR SO I DON\\'T HAVE TO WORRY ABOUT THEM IN THE FUTURE\"... and also, he didn\\'t let COLE WARN THE SISTERS LIKE PHOEBE ASKED IN EXCHANGE OF ACCEPTING THE DEAL, that\\'s why PRUE DIED, because she got hit harder than PIPER and on the head, and there was no PHOEBE to call for LEO this time, and in the past LEO SAID THAT SHE ALMOST GOT HERSELF KILLED. pay more attention next time! and there is not a \"TO BE CONTINUED...\" after this episode. it is the ending of season 3, and on season 4 they can\\'t show anything from PRUE because she owns the rights of it \"PRUE\", so the producers would have to pay her for whatever they show. this is the last episode she is in!', 'The slightly overlong set up episode of the previous week paid off in no uncertain terms with an episode that hit the heights. There was a certain deus ex machina flavour to the resolution of the cliffhanger, but it was a good start for all that. As is now common with this Doctor the moral, ethical and emotional considerations of his actions were centre stage. They were always there in the classic series, but they were a side issue, to be glossed over when the Doctor was in the heat of battle. This regeneration even says sorry to a cyberman during the battle! This episode finally shows Mickey embracing the heroic side that had been hinted at in previous episodes. His journey from zero to hero is complete, and it has been an utterly convincing one. With scares, humour and scenes that brought a lump to your throat this episode had everything. After much consideration I can finally say that the new series betters the classic series in every single respect. Coming from a die hard Whovian you can get no better recommendation than that.', \"This was the worst MTV Movie Awards EVER!!! I barely laughed, none of the presenters were funny, the hosts really sucked, and the parodies weren't so great either. Why can't we go back to the good olden days when the show was a riot?\", 'And I do not understand why the show gets so much beating. In my opinion this show really is excellent. Well the first two episodes were not that great but it picks up a load of momentum at the third episode. Which seems to be typical for a Steve Moffat sitcom. I would rate it among the best sitcoms Britain has ever produced.<br /><br />The show itself is a farce at its best, it is not along the lines of Fawlty Towers, but you definitely can rank it as high as a Black Adder, Coupling, or The Young Ones! I am watching the first season, and all I can say is that I am happy I bought the DVD!<br /><br />The problem probably with this show is and why it got smacked so hard, according to the internet, that the original press release compared it to Fawlty Towers, and everyone was disappointed it was not! Well even Green Wing is closer to Fawlty Towers than this show, all I can say is clear your mind from every prejudice, give the show at least a run until (including episode 3) and then decide for yourself!<br /><br />All I can say is thanks Steve Moffat for writing it and thanks for the entire staff pulling it off!', \"I used to love watching this. I had no idea it was part of a larger series. I must have been 6 or so at the time it was on TV. I just thought it was funny and for some reason I had a deep fascination for something that was clear that was in the president's pile of bathtub toys. My parents had taped this off of TV when it originally aired on NBC. The tape even had the old Sanka coffee commercial along with a few others. I'm planning on returning home sometime soon and will try to record the tape onto my computer so that those who want a copy can do so. If anyone of you would like to contact me, I think you can do that through the IMDb site feel free. I will keep you updated and let you know when I have the show in a digital format.\"]\n",
      "\n",
      "Cluster 4:\n",
      "['First, I am not really a fan of the whole \"things eating flesh in disgusting new ways\" genre of film but I am a bad movie afficionado so my next door neighbor said he had the worst movie ever. This one. So we start watching it. First and foremost - it is recorded on a camcorder sans tripod! Second the voice of the skinny white doctor is dubbed by a large black man! Third, none of the dialogue makes any sense. Fourth, the zombie scenes, though unconvincing and chockful of poor makeup and tomato paste, lead me to believe the director (and my next door neighbor) are in need of psychological help. It\\'s funny for about 5 minutes but it gets old fast. It\\'s so amateurish it\\'s like watching a poorly dubbed high school video yearbook.... with zombies. A note to anyone involved with this movie - I want the 20 minutes of my life I spent watching this, before I fell asleep, back.', \"My friend and I rented this movie for 3.99 at blockbuster. If I'd have known how absolutely horrible this movie was going to be, I wouldn't have paid a cent. I had no warning for this bs. The acting can't even be called acting, the inevitable sex scene is awkward, and you can tell that both girls feel completely uncomfortable doing it, and the male villain... god, who couldn't tell he was going to attack emily And the musical cues... my lord. This movie makes me want to cry. Never rent this. In fact, if you happen to look upon it, gauge out your eyeballs. This movie isn't of God- it's from hell. I'm just gonna take the last couple lines to write blah blah blah shiz cause I really don't want to continue on with this review.\", \"Wow. We watched this film in the hopes that it would have at least some decent rock climbing scenes. We were disappointed there, but it was still a great movie! It was soooo cheesy it was great! I haven't laughed so hard at a movie in a long time. If you are into rock climbing, and you enjoy cheesy movies, then this one is absolutely for you!\", 'The best thing about this movie was, uh, well, I can\\'t think of anything. This was bad. The script was especially bad. The technical concepts were bad. The \"suspenseful\" plot was bad. The dialog was bad. Avoid at all costs. Do not rent. Do not watch. You\\'ll be sorry.', 'This movie is bad, so bad that my mother who can barely stand the \"suspense\" of Disney\\'s Snow White, was chuckling through out the entire movie. My first warning should\\'ve been that it was in the $5.50 bin at Wal-mart. But I have actually found some good movies in that bin, so i can\\'t fault if for this debacle. The second warning should have been that when the cashier rang up the DVD, it was actually $3.88. Again I have never been one to ignore the cheapies. THis movie is definitely not for people looking for something good to watch, and it most certainly isn\\'t for everyone that enjoys the occasional bad movie. If you need background noise while you are doing something like playing cards with some friends, then get this but if you are looking for something to actually watch don\\'t even bother. It was really disappointing because there were a lot of good actors. I felt like i was watching a chocolate version of Willard.']\n"
     ]
    }
   ],
   "source": [
    "# Melihat beberapa review dalam setiap cluster\n",
    "for i in range(num_clusters):\n",
    "    print(f\"\\nCluster {i}:\")\n",
    "    print(data[data['cluster'] == i]['review'].sample(5).tolist())"
   ]
  },
  {
   "cell_type": "code",
   "execution_count": null,
   "id": "b621fd2d-08ef-4e3e-9f4d-ed9e708b8dbf",
   "metadata": {},
   "outputs": [],
   "source": []
  }
 ],
 "metadata": {
  "kernelspec": {
   "display_name": "Python 3 (ipykernel)",
   "language": "python",
   "name": "python3"
  },
  "language_info": {
   "codemirror_mode": {
    "name": "ipython",
    "version": 3
   },
   "file_extension": ".py",
   "mimetype": "text/x-python",
   "name": "python",
   "nbconvert_exporter": "python",
   "pygments_lexer": "ipython3",
   "version": "3.11.7"
  }
 },
 "nbformat": 4,
 "nbformat_minor": 5
}
